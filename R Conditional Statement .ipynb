{
 "cells": [
  {
   "cell_type": "markdown",
   "metadata": {},
   "source": [
    "## Conditional Statements Exercises - Solutions"
   ]
  },
  {
   "cell_type": "markdown",
   "metadata": {},
   "source": [
    "##### For these exercises, use  if,else if, and else statements to answer the questions!"
   ]
  },
  {
   "cell_type": "markdown",
   "metadata": {},
   "source": [
    "##### Example: Write a script that prints \"Hello\" if the variable x is equal to 1:"
   ]
  },
  {
   "cell_type": "code",
   "execution_count": 1,
   "metadata": {},
   "outputs": [
    {
     "name": "stdout",
     "output_type": "stream",
     "text": [
      "[1] \"Hello\"\n"
     ]
    }
   ],
   "source": [
    "x <- 1\n",
    "\n",
    "if (x ==1){\n",
    "    print(\"Hello\")\n",
    "}"
   ]
  },
  {
   "cell_type": "markdown",
   "metadata": {},
   "source": [
    "##### Write a script that will print \"Even Number\" if the variable x is an even number, otherwise print \"Not Even\":"
   ]
  },
  {
   "cell_type": "code",
   "execution_count": 2,
   "metadata": {},
   "outputs": [
    {
     "name": "stdout",
     "output_type": "stream",
     "text": [
      "[1] \"Not Even\"\n"
     ]
    }
   ],
   "source": [
    "x <- 3 # Change x to test\n",
    "\n",
    "if (x%%2 == 0){\n",
    "    print('Even Number')\n",
    "}else{\n",
    "    print('Not Even')\n",
    "}"
   ]
  },
  {
   "cell_type": "markdown",
   "metadata": {},
   "source": [
    "##### Write a script that will print 'Is a Matrix' if the variable x is a matrix, otherwise print \"Not a Matrix\". Hint: You may want to check out help(is.matrix)"
   ]
  },
  {
   "cell_type": "code",
   "execution_count": 3,
   "metadata": {},
   "outputs": [
    {
     "name": "stdout",
     "output_type": "stream",
     "text": [
      "[1] \"Is a Matrix\"\n"
     ]
    }
   ],
   "source": [
    "x <- matrix()\n",
    "\n",
    "if (is.matrix(x)){\n",
    "    print('Is a Matrix')\n",
    "}else{\n",
    "    print(\"Not a Matrix\")\n",
    "}"
   ]
  },
  {
   "cell_type": "markdown",
   "metadata": {},
   "source": [
    "##### Create a script that given a numeric vector x with a length 3, will print out the elements in order from high to low. You must use if,else if, and else statements for your logic."
   ]
  },
  {
   "cell_type": "code",
   "execution_count": 4,
   "metadata": {},
   "outputs": [
    {
     "name": "stdout",
     "output_type": "stream",
     "text": [
      "[1] \"7 3 1\"\n"
     ]
    }
   ],
   "source": [
    "x <- c(3,7,1)\n",
    "\n",
    "if (x[1] > x[2]){\n",
    "    fir <- x[1]\n",
    "    sec <- x[2]\n",
    "} else {\n",
    "    fir <- x[2]\n",
    "    sec <- x[1]\n",
    "}\n",
    "if ( x[3] > fir & x[3] > sec ) {\n",
    "    thi <- sec\n",
    "    sec <- fir\n",
    "    fir <- x[3]\n",
    "} else if ( x[3] < fir & x[3] < sec ) {\n",
    "    thi <- x[3]\n",
    "} else {\n",
    "    thi <- sec\n",
    "    sec <- x[3]\n",
    "}\n",
    "\n",
    "print(paste(fir, sec, thi))"
   ]
  },
  {
   "cell_type": "markdown",
   "metadata": {},
   "source": [
    "##### Write a script that uses if,else if, and else statements to print the max element in a numeric vector with 3 elements."
   ]
  },
  {
   "cell_type": "code",
   "execution_count": 5,
   "metadata": {},
   "outputs": [
    {
     "name": "stdout",
     "output_type": "stream",
     "text": [
      "[1] 20\n"
     ]
    }
   ],
   "source": [
    "x <- c(20, 10, 1)\n",
    "\n",
    "if (x[1] > x[2] & x[1] > x[3] ) {\n",
    "    print(x[1] )\n",
    "} else if (x[2] > x[3] ) {\n",
    "    print(x[2])\n",
    "} else {\n",
    "    print(x[3])\n",
    "}"
   ]
  },
  {
   "cell_type": "code",
   "execution_count": null,
   "metadata": {},
   "outputs": [],
   "source": []
  }
 ],
 "metadata": {
  "kernelspec": {
   "display_name": "R",
   "language": "R",
   "name": "ir"
  },
  "language_info": {
   "codemirror_mode": "r",
   "file_extension": ".r",
   "mimetype": "text/x-r-source",
   "name": "R",
   "pygments_lexer": "r",
   "version": "3.5.1"
  }
 },
 "nbformat": 4,
 "nbformat_minor": 2
}

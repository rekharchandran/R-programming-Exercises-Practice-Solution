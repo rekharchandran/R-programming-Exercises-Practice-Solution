{
 "cells": [
  {
   "cell_type": "markdown",
   "metadata": {},
   "source": [
    "# Vector Exercise"
   ]
  },
  {
   "cell_type": "markdown",
   "metadata": {},
   "source": [
    "### Write a R program to create a vector of a specified type and length. Create vector of numeric, complex, logical and character types of length 6."
   ]
  },
  {
   "cell_type": "code",
   "execution_count": 1,
   "metadata": {},
   "outputs": [
    {
     "name": "stdout",
     "output_type": "stream",
     "text": [
      "[1] \"Numeric Type:\"\n",
      "[1] 0 0 0 0 0\n",
      "[1] \"Complex Type:\"\n",
      "[1] 0+0i 0+0i 0+0i 0+0i 0+0i\n",
      "[1] \"Logical Type:\"\n",
      "[1] FALSE FALSE FALSE FALSE FALSE\n",
      "[1] \"Character Type:\"\n",
      "[1] \"\" \"\" \"\" \"\" \"\"\n"
     ]
    }
   ],
   "source": [
    "x = vector(\"numeric\", 5)\n",
    "print(\"Numeric Type:\")\n",
    "print(x)\n",
    "c = vector(\"complex\", 5)\n",
    "print(\"Complex Type:\")\n",
    "print(c)\n",
    "l = vector(\"logical\", 5)\n",
    "print(\"Logical Type:\")\n",
    "print(l)\n",
    "chr = vector(\"character\", 5)\n",
    "print(\"Character Type:\")\n",
    "print(chr)"
   ]
  },
  {
   "cell_type": "code",
   "execution_count": null,
   "metadata": {},
   "outputs": [],
   "source": []
  }
 ],
 "metadata": {
  "kernelspec": {
   "display_name": "R",
   "language": "R",
   "name": "ir"
  },
  "language_info": {
   "codemirror_mode": "r",
   "file_extension": ".r",
   "mimetype": "text/x-r-source",
   "name": "R",
   "pygments_lexer": "r",
   "version": "3.5.1"
  }
 },
 "nbformat": 4,
 "nbformat_minor": 2
}

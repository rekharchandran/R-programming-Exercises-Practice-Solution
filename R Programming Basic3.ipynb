{
 "cells": [
  {
   "cell_type": "markdown",
   "metadata": {},
   "source": [
    "# R Programming Basic: Exercises, Practice, Solution"
   ]
  },
  {
   "cell_type": "markdown",
   "metadata": {},
   "source": [
    "#### Write a R program to print the numbers from 1 to 100 and print \"Fizz\" for multiples of 3, print \"Buzz\" for multiples of 5, and print \"FizzBuzz\" for multiples of both"
   ]
  },
  {
   "cell_type": "code",
   "execution_count": 1,
   "metadata": {},
   "outputs": [
    {
     "name": "stdout",
     "output_type": "stream",
     "text": [
      "[1] 1\n",
      "[1] 2\n",
      "[1] \"Fizz\"\n",
      "[1] 4\n",
      "[1] \"Buzz\"\n",
      "[1] \"Fizz\"\n",
      "[1] 7\n",
      "[1] 8\n",
      "[1] \"Fizz\"\n",
      "[1] \"Buzz\"\n",
      "[1] 11\n",
      "[1] \"Fizz\"\n",
      "[1] 13\n",
      "[1] 14\n",
      "[1] \"FizzBuzz\"\n",
      "[1] 16\n",
      "[1] 17\n",
      "[1] \"Fizz\"\n",
      "[1] 19\n",
      "[1] \"Buzz\"\n",
      "[1] \"Fizz\"\n",
      "[1] 22\n",
      "[1] 23\n",
      "[1] \"Fizz\"\n",
      "[1] \"Buzz\"\n",
      "[1] 26\n",
      "[1] \"Fizz\"\n",
      "[1] 28\n",
      "[1] 29\n",
      "[1] \"FizzBuzz\"\n",
      "[1] 31\n",
      "[1] 32\n",
      "[1] \"Fizz\"\n",
      "[1] 34\n",
      "[1] \"Buzz\"\n",
      "[1] \"Fizz\"\n",
      "[1] 37\n",
      "[1] 38\n",
      "[1] \"Fizz\"\n",
      "[1] \"Buzz\"\n",
      "[1] 41\n",
      "[1] \"Fizz\"\n",
      "[1] 43\n",
      "[1] 44\n",
      "[1] \"FizzBuzz\"\n",
      "[1] 46\n",
      "[1] 47\n",
      "[1] \"Fizz\"\n",
      "[1] 49\n",
      "[1] \"Buzz\"\n",
      "[1] \"Fizz\"\n",
      "[1] 52\n",
      "[1] 53\n",
      "[1] \"Fizz\"\n",
      "[1] \"Buzz\"\n",
      "[1] 56\n",
      "[1] \"Fizz\"\n",
      "[1] 58\n",
      "[1] 59\n",
      "[1] \"FizzBuzz\"\n",
      "[1] 61\n",
      "[1] 62\n",
      "[1] \"Fizz\"\n",
      "[1] 64\n",
      "[1] \"Buzz\"\n",
      "[1] \"Fizz\"\n",
      "[1] 67\n",
      "[1] 68\n",
      "[1] \"Fizz\"\n",
      "[1] \"Buzz\"\n",
      "[1] 71\n",
      "[1] \"Fizz\"\n",
      "[1] 73\n",
      "[1] 74\n",
      "[1] \"FizzBuzz\"\n",
      "[1] 76\n",
      "[1] 77\n",
      "[1] \"Fizz\"\n",
      "[1] 79\n",
      "[1] \"Buzz\"\n",
      "[1] \"Fizz\"\n",
      "[1] 82\n",
      "[1] 83\n",
      "[1] \"Fizz\"\n",
      "[1] \"Buzz\"\n",
      "[1] 86\n",
      "[1] \"Fizz\"\n",
      "[1] 88\n",
      "[1] 89\n",
      "[1] \"FizzBuzz\"\n",
      "[1] 91\n",
      "[1] 92\n",
      "[1] \"Fizz\"\n",
      "[1] 94\n",
      "[1] \"Buzz\"\n",
      "[1] \"Fizz\"\n",
      "[1] 97\n",
      "[1] 98\n",
      "[1] \"Fizz\"\n",
      "[1] \"Buzz\"\n"
     ]
    }
   ],
   "source": [
    "for (n in 1:100) {\n",
    " if (n %% 3 == 0 & n %% 5 == 0) {print(\"FizzBuzz\")}\n",
    " else if (n %% 3 == 0) {print(\"Fizz\")}\n",
    " else if (n %% 5 == 0) {print(\"Buzz\")}\n",
    " else print(n)\n",
    "}"
   ]
  },
  {
   "cell_type": "markdown",
   "metadata": {},
   "source": [
    "### Write a R program to extract first 10 english letter in lower case and last 10 letters in upper case and extract letters between 22nd to 24th letters in upper case"
   ]
  },
  {
   "cell_type": "code",
   "execution_count": 2,
   "metadata": {},
   "outputs": [
    {
     "name": "stdout",
     "output_type": "stream",
     "text": [
      "[1] \"First 10 letters in lower case:\"\n",
      " [1] \"a\" \"b\" \"c\" \"d\" \"e\" \"f\" \"g\" \"h\" \"i\" \"j\"\n",
      "[1] \"Last 10 letters in upper case:\"\n",
      " [1] \"Q\" \"R\" \"S\" \"T\" \"U\" \"V\" \"W\" \"X\" \"Y\" \"Z\"\n",
      "[1] \"Letters between 22nd to 24th letters in upper case:\"\n",
      "[1] \"V\" \"W\" \"X\"\n"
     ]
    }
   ],
   "source": [
    "print(\"First 10 letters in lower case:\")\n",
    "t = head(letters, 10)\n",
    "print(t)\n",
    "print(\"Last 10 letters in upper case:\")\n",
    "t = tail(LETTERS, 10)\n",
    "print(t)\n",
    "print(\"Letters between 22nd to 24th letters in upper case:\")\n",
    "e = tail(LETTERS[22:24])\n",
    "print(e)"
   ]
  },
  {
   "cell_type": "markdown",
   "metadata": {},
   "source": [
    "\n",
    "### Write a R program to find the factors of a given number"
   ]
  },
  {
   "cell_type": "code",
   "execution_count": 3,
   "metadata": {},
   "outputs": [
    {
     "name": "stdout",
     "output_type": "stream",
     "text": [
      "[1] \"The factors of 4 are:\"\n",
      "[1] 1\n",
      "[1] 2\n",
      "[1] 4\n",
      "[1] \"The factors of 7 are:\"\n",
      "[1] 1\n",
      "[1] 7\n",
      "[1] \"The factors of 12 are:\"\n",
      "[1] 1\n",
      "[1] 2\n",
      "[1] 3\n",
      "[1] 4\n",
      "[1] 6\n",
      "[1] 12\n"
     ]
    }
   ],
   "source": [
    "print_factors = function(n) {\n",
    "print(paste(\"The factors of\",n,\"are:\"))\n",
    "for(i in 1:n) {\n",
    "if((n %% i) == 0) {\n",
    "print(i)\n",
    "}\n",
    "}\n",
    "}\n",
    "print_factors(4)\n",
    "print_factors(7)\n",
    "print_factors(12)"
   ]
  },
  {
   "cell_type": "code",
   "execution_count": null,
   "metadata": {},
   "outputs": [],
   "source": []
  }
 ],
 "metadata": {
  "kernelspec": {
   "display_name": "R",
   "language": "R",
   "name": "ir"
  },
  "language_info": {
   "codemirror_mode": "r",
   "file_extension": ".r",
   "mimetype": "text/x-r-source",
   "name": "R",
   "pygments_lexer": "r",
   "version": "3.5.1"
  }
 },
 "nbformat": 4,
 "nbformat_minor": 2
}

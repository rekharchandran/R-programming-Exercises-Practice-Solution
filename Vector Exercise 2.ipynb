{
 "cells": [
  {
   "cell_type": "markdown",
   "metadata": {},
   "source": [
    "### Write a R program to access the last value in a given vector."
   ]
  },
  {
   "cell_type": "code",
   "execution_count": 1,
   "metadata": {},
   "outputs": [
    {
     "name": "stdout",
     "output_type": "stream",
     "text": [
      "[1] \"Original Vectors:\"\n",
      "[1] 10 20 30 20 20 25  9 26\n",
      "[1] \"Access the last value of the said vector:\"\n",
      "[1] 26\n"
     ]
    }
   ],
   "source": [
    "x = c(10, 20, 30, 20, 20, 25, 9, 26)\n",
    "print(\"Original Vectors:\")\n",
    "print(x)\n",
    "print(\"Access the last value of the said vector:\")\n",
    "print(tail(x, n=1))"
   ]
  },
  {
   "cell_type": "markdown",
   "metadata": {},
   "source": [
    "### Write a R program to find nth highest value in a given vector."
   ]
  },
  {
   "cell_type": "code",
   "execution_count": 2,
   "metadata": {},
   "outputs": [
    {
     "name": "stdout",
     "output_type": "stream",
     "text": [
      "[1] \"Original Vectors:\"\n",
      "[1] 10 20 30 20 20 25  9 26\n",
      "[1] \"nth highest value in a given vector:\"\n",
      "[1] \"n = 1\"\n",
      "[1] 30\n",
      "[1] \"n = 2\"\n",
      "[1] 26\n",
      "[1] \"n = 3\"\n",
      "[1] 25\n",
      "[1] \"n = 4\"\n",
      "[1] 20\n"
     ]
    }
   ],
   "source": [
    "x = c(10, 20, 30, 20, 20, 25, 9, 26)\n",
    "print(\"Original Vectors:\")\n",
    "print(x)\n",
    "print(\"nth highest value in a given vector:\")\n",
    "print(\"n = 1\")\n",
    "n = 1\n",
    "print(sort(x, TRUE)[n])\n",
    "print(\"n = 2\")\n",
    "n = 2\n",
    "print(sort(x, TRUE)[n])\n",
    "print(\"n = 3\")\n",
    "n = 3\n",
    "print(sort(x, TRUE)[n])\n",
    "print(\"n = 4\")\n",
    "n = 4\n",
    "print(sort(x, TRUE)[n])"
   ]
  },
  {
   "cell_type": "code",
   "execution_count": null,
   "metadata": {},
   "outputs": [],
   "source": []
  }
 ],
 "metadata": {
  "kernelspec": {
   "display_name": "R",
   "language": "R",
   "name": "ir"
  },
  "language_info": {
   "codemirror_mode": "r",
   "file_extension": ".r",
   "mimetype": "text/x-r-source",
   "name": "R",
   "pygments_lexer": "r",
   "version": "3.5.1"
  }
 },
 "nbformat": 4,
 "nbformat_minor": 2
}

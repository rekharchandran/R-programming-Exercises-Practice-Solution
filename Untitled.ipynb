{
 "cells": [
  {
   "cell_type": "markdown",
   "metadata": {},
   "source": [
    "## R Programming: Basic Exercise"
   ]
  },
  {
   "cell_type": "markdown",
   "metadata": {},
   "source": [
    "### Write a R program to get the details of the objects in memory"
   ]
  },
  {
   "cell_type": "code",
   "execution_count": 1,
   "metadata": {},
   "outputs": [
    {
     "name": "stdout",
     "output_type": "stream",
     "text": [
      "[1] \"n1\"   \"n2\"   \"name\" \"nums\"\n",
      "[1] \"Details of the objects in memory:\"\n",
      "n1 :  num 10\n",
      "n2 :  num 0.5\n",
      "name :  chr \"R\"\n",
      "nums :  num [1:6] 10 20 30 40 50 60\n"
     ]
    }
   ],
   "source": [
    "name = \"R\"; \n",
    "n1 =  10; \n",
    "n2 =  0.5\n",
    "nums = c(10, 20, 30, 40, 50, 60)\n",
    "print(ls())\n",
    "print(\"Details of the objects in memory:\")\n",
    "print(ls.str())"
   ]
  },
  {
   "cell_type": "markdown",
   "metadata": {},
   "source": [
    "### Write a R program to create a sequence of numbers from 20 to 50 and find the mean of numbers from 20 to 60 and sum of numbers from 51 to 91."
   ]
  },
  {
   "cell_type": "code",
   "execution_count": 2,
   "metadata": {},
   "outputs": [
    {
     "name": "stdout",
     "output_type": "stream",
     "text": [
      "[1] \"Sequence of numbers from 20 to 50:\"\n",
      " [1] 20 21 22 23 24 25 26 27 28 29 30 31 32 33 34 35 36 37 38 39 40 41 42 43 44\n",
      "[26] 45 46 47 48 49 50\n",
      "[1] \"Mean of numbers from 20 to 60:\"\n",
      "[1] 40\n",
      "[1] \"Sum of numbers from 51 to 91:\"\n",
      "[1] 2911\n"
     ]
    }
   ],
   "source": [
    "print(\"Sequence of numbers from 20 to 50:\")\n",
    "print(seq(20,50))\n",
    "print(\"Mean of numbers from 20 to 60:\")\n",
    "print(mean(20:60))\n",
    "print(\"Sum of numbers from 51 to 91:\")\n",
    "print(sum(51:91))"
   ]
  },
  {
   "cell_type": "markdown",
   "metadata": {},
   "source": [
    "### Write a R program to create a vector which contains 10 random integer values between -50 and +50."
   ]
  },
  {
   "cell_type": "code",
   "execution_count": 3,
   "metadata": {},
   "outputs": [
    {
     "name": "stdout",
     "output_type": "stream",
     "text": [
      "[1] \"Content of the vector:\"\n",
      "[1] \"10 random integer values between -50 and +50:\"\n",
      " [1]  17 -48 -11 -30  27  13  50 -47  24 -28\n"
     ]
    }
   ],
   "source": [
    "v = sample(-50:50, 10, replace=TRUE)\n",
    "print(\"Content of the vector:\")\n",
    "print(\"10 random integer values between -50 and +50:\")\n",
    "print(v)"
   ]
  },
  {
   "cell_type": "markdown",
   "metadata": {},
   "source": [
    "### Write a R program to get the first 10 Fibonacci numbers"
   ]
  },
  {
   "cell_type": "code",
   "execution_count": 4,
   "metadata": {},
   "outputs": [
    {
     "name": "stdout",
     "output_type": "stream",
     "text": [
      "[1] \"First 10 Fibonacci numbers:\"\n",
      " [1]  1  1  2  3  5  8 13 21 34 55\n"
     ]
    }
   ],
   "source": [
    "Fibonacci <- numeric(10)\n",
    "Fibonacci[1] <- Fibonacci[2] <- 1\n",
    "for (i in 3:10) Fibonacci[i] <- Fibonacci[i - 2] + Fibonacci[i - 1]\n",
    "print(\"First 10 Fibonacci numbers:\")\n",
    "print(Fibonacci)"
   ]
  },
  {
   "cell_type": "code",
   "execution_count": null,
   "metadata": {},
   "outputs": [],
   "source": [
    "def gen_fib():\n",
    "    count = int(input(\"How many fibonacci numbers would you like to generate? \"))\n",
    "    i = 1\n",
    "    if count == 0:\n",
    "        fib = []\n",
    "    elif count == 1:\n",
    "        fib = [1]\n",
    "    elif count == 2:\n",
    "        fib = [1,1]\n",
    "    elif count > 2:\n",
    "        fib = [1,1]\n",
    "        while i < (count - 1):\n",
    "            fib.append(fib[i] + fib[i-1])\n",
    "            i += 1\n",
    "\n",
    "    return fib"
   ]
  }
 ],
 "metadata": {
  "kernelspec": {
   "display_name": "R",
   "language": "R",
   "name": "ir"
  },
  "language_info": {
   "codemirror_mode": "r",
   "file_extension": ".r",
   "mimetype": "text/x-r-source",
   "name": "R",
   "pygments_lexer": "r",
   "version": "3.5.1"
  }
 },
 "nbformat": 4,
 "nbformat_minor": 2
}

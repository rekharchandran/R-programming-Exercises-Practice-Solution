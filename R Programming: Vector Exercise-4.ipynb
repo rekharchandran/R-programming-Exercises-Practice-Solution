{
 "cells": [
  {
   "cell_type": "markdown",
   "metadata": {},
   "source": [
    "# R Programming:  Vector Exercise 4"
   ]
  },
  {
   "cell_type": "markdown",
   "metadata": {},
   "source": [
    "#### Write a R program to convert given dataframe column(s) to a vector."
   ]
  },
  {
   "cell_type": "code",
   "execution_count": 1,
   "metadata": {},
   "outputs": [
    {
     "name": "stdout",
     "output_type": "stream",
     "text": [
      "  dfc1 dfc2 dfc3 dfc4\n",
      "1    1    6   11   16\n",
      "2    2    7   12   17\n",
      "3    3    8   13   18\n",
      "4    4    9   14   19\n",
      "5    5   10   15   20\n"
     ]
    }
   ],
   "source": [
    "dfc1 = c(1, 2, 3, 4, 5)\n",
    "dfc2 = c(6, 7, 8, 9, 10)\n",
    "dfc3 = c(11, 12, 13, 14, 15)\n",
    "dfc4 = c(16, 17, 18, 19, 20)\n",
    "v <- data.frame(dfc1=1:5, dfc2=6:10, dfc3=11:15, dfc4=16:20)\n",
    "print(v)"
   ]
  },
  {
   "cell_type": "markdown",
   "metadata": {},
   "source": [
    "#### Write a R program to extract every nth element of a given vector."
   ]
  },
  {
   "cell_type": "code",
   "execution_count": 2,
   "metadata": {},
   "outputs": [
    {
     "name": "stdout",
     "output_type": "stream",
     "text": [
      "[1] \"Original vector:\"\n",
      "  [1]   1   2   3   4   5   6   7   8   9  10  11  12  13  14  15  16  17  18\n",
      " [19]  19  20  21  22  23  24  25  26  27  28  29  30  31  32  33  34  35  36\n",
      " [37]  37  38  39  40  41  42  43  44  45  46  47  48  49  50  51  52  53  54\n",
      " [55]  55  56  57  58  59  60  61  62  63  64  65  66  67  68  69  70  71  72\n",
      " [73]  73  74  75  76  77  78  79  80  81  82  83  84  85  86  87  88  89  90\n",
      " [91]  91  92  93  94  95  96  97  98  99 100\n",
      "[1] \"After extracting every 5th element of the said vector:\"\n",
      " [1]  1  6 11 16 21 26 31 36 41 46 51 56 61 66 71 76 81 86 91 96\n"
     ]
    }
   ],
   "source": [
    "v <- 1:100\n",
    "print(\"Original vector:\")\n",
    "print(v)\n",
    "print(\"After extracting every 5th element of the said vector:\")\n",
    "n <- v[seq(1, length(v), 5)]\n",
    "print(n)"
   ]
  },
  {
   "cell_type": "markdown",
   "metadata": {},
   "source": [
    "#### Write a  program to list the distinct values in a vector from a given vector."
   ]
  },
  {
   "cell_type": "code",
   "execution_count": 1,
   "metadata": {},
   "outputs": [
    {
     "name": "stdout",
     "output_type": "stream",
     "text": [
      "[1] \"Original vector:\"\n",
      "[1] 10 10 10 20 30 40 40 40 50\n",
      "[1] \"Distinct values of the said vector:\"\n",
      "[1] 10 20 30 40 50\n"
     ]
    }
   ],
   "source": [
    "v = c(10, 10, 10, 20, 30, 40, 40, 40, 50)\n",
    "print(\"Original vector:\")\n",
    "print(v)\n",
    "print(\"Distinct values of the said vector:\")\n",
    "print(unique(v))"
   ]
  },
  {
   "cell_type": "markdown",
   "metadata": {},
   "source": [
    "#### Write a program to find the elements of a given vector that are not in another given vector.\n",
    "\n"
   ]
  },
  {
   "cell_type": "code",
   "execution_count": 2,
   "metadata": {},
   "outputs": [
    {
     "name": "stdout",
     "output_type": "stream",
     "text": [
      "[1] \"Original vector-1:\"\n",
      " [1]  0 10 10 10 20 30 40 40 40 50 60\n",
      "[1] \"Original vector-2:\"\n",
      "[1] 10 10 20 30 40 40 50\n",
      "[1] \"Elements of a that are not in b:\"\n",
      "[1]  0 60\n"
     ]
    }
   ],
   "source": [
    "a = c(0, 10, 10, 10, 20, 30, 40, 40, 40, 50, 60)\n",
    "b = c(10, 10, 20, 30, 40, 40, 50)\n",
    "print(\"Original vector-1:\")\n",
    "print(a)\n",
    "print(\"Original vector-2:\")\n",
    "print(b)\n",
    "print(\"Elements of a that are not in b:\")\n",
    "result = setdiff(a, b)\n",
    "print(result)"
   ]
  },
  {
   "cell_type": "code",
   "execution_count": null,
   "metadata": {},
   "outputs": [],
   "source": []
  }
 ],
 "metadata": {
  "kernelspec": {
   "display_name": "R",
   "language": "R",
   "name": "ir"
  },
  "language_info": {
   "codemirror_mode": "r",
   "file_extension": ".r",
   "mimetype": "text/x-r-source",
   "name": "R",
   "pygments_lexer": "r",
   "version": "3.5.1"
  }
 },
 "nbformat": 4,
 "nbformat_minor": 2
}

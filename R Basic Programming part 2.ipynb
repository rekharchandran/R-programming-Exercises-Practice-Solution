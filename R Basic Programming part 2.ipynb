{
 "cells": [
  {
   "cell_type": "markdown",
   "metadata": {},
   "source": [
    "## R Programming: Basic Exercise part 2"
   ]
  },
  {
   "cell_type": "markdown",
   "metadata": {},
   "source": [
    "### Write a R program to create an array, passing in a vector of values and a vector of dimensions. Also  provide names for each dimension."
   ]
  },
  {
   "cell_type": "code",
   "execution_count": 1,
   "metadata": {},
   "outputs": [
    {
     "name": "stdout",
     "output_type": "stream",
     "text": [
      ", , Part1\n",
      "\n",
      "     Row1 Row2 Row3\n",
      "Col1    6   10   14\n",
      "Col2    7   11   15\n",
      "Col3    8   12   16\n",
      "Col4    9   13   17\n",
      "\n",
      ", , Part2\n",
      "\n",
      "     Row1 Row2 Row3\n",
      "Col1   18   22   26\n",
      "Col2   19   23   27\n",
      "Col3   20   24   28\n",
      "Col4   21   25   29\n",
      "\n"
     ]
    }
   ],
   "source": [
    "a =  array(\n",
    "  6:30,\n",
    "  dim = c(4, 3, 2),\n",
    "  dimnames = list(\n",
    "    c(\"Col1\", \"Col2\", \"Col3\", \"Col4\"),\n",
    "    c(\"Row1\", \"Row2\", \"Row3\"),\n",
    "    c(\"Part1\", \"Part2\")\n",
    "  )\n",
    ")\n",
    "print(a)"
   ]
  },
  {
   "cell_type": "markdown",
   "metadata": {},
   "source": [
    "### Write a R program to create an array with three columns, three rows, and two \"tables\", taking two vectors as input to the array. Print the array."
   ]
  },
  {
   "cell_type": "code",
   "execution_count": 2,
   "metadata": {},
   "outputs": [
    {
     "name": "stdout",
     "output_type": "stream",
     "text": [
      ", , 1\n",
      "\n",
      "     [,1] [,2] [,3]\n",
      "[1,]    1    7    6\n",
      "[2,]    3    2    8\n",
      "[3,]    5    4   10\n",
      "\n",
      ", , 2\n",
      "\n",
      "     [,1] [,2] [,3]\n",
      "[1,]    1    7    6\n",
      "[2,]    3    2    8\n",
      "[3,]    5    4   10\n",
      "\n"
     ]
    }
   ],
   "source": [
    "v1 = c(1, 3, 5, 7)\n",
    "v2 = c(2, 4, 6, 8, 10)\n",
    "arra1 = array(c(v1, v2),dim = c(3,3,2))\n",
    "print(arra1)"
   ]
  },
  {
   "cell_type": "code",
   "execution_count": null,
   "metadata": {},
   "outputs": [],
   "source": []
  }
 ],
 "metadata": {
  "kernelspec": {
   "display_name": "R",
   "language": "R",
   "name": "ir"
  },
  "language_info": {
   "codemirror_mode": "r",
   "file_extension": ".r",
   "mimetype": "text/x-r-source",
   "name": "R",
   "pygments_lexer": "r",
   "version": "3.5.1"
  }
 },
 "nbformat": 4,
 "nbformat_minor": 2
}

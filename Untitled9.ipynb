{
 "cells": [
  {
   "cell_type": "markdown",
   "metadata": {},
   "source": [
    "# R Programming:  Vector Exercise 4"
   ]
  },
  {
   "cell_type": "markdown",
   "metadata": {},
   "source": [
    "#### Write a R program to convert given dataframe column(s) to a vector."
   ]
  },
  {
   "cell_type": "code",
   "execution_count": 1,
   "metadata": {},
   "outputs": [
    {
     "name": "stdout",
     "output_type": "stream",
     "text": [
      "  dfc1 dfc2 dfc3 dfc4\n",
      "1    1    6   11   16\n",
      "2    2    7   12   17\n",
      "3    3    8   13   18\n",
      "4    4    9   14   19\n",
      "5    5   10   15   20\n"
     ]
    }
   ],
   "source": [
    "dfc1 = c(1, 2, 3, 4, 5)\n",
    "dfc2 = c(6, 7, 8, 9, 10)\n",
    "dfc3 = c(11, 12, 13, 14, 15)\n",
    "dfc4 = c(16, 17, 18, 19, 20)\n",
    "v <- data.frame(dfc1=1:5, dfc2=6:10, dfc3=11:15, dfc4=16:20)\n",
    "print(v)"
   ]
  },
  {
   "cell_type": "code",
   "execution_count": null,
   "metadata": {},
   "outputs": [],
   "source": []
  }
 ],
 "metadata": {
  "kernelspec": {
   "display_name": "R",
   "language": "R",
   "name": "ir"
  },
  "language_info": {
   "codemirror_mode": "r",
   "file_extension": ".r",
   "mimetype": "text/x-r-source",
   "name": "R",
   "pygments_lexer": "r",
   "version": "3.5.1"
  }
 },
 "nbformat": 4,
 "nbformat_minor": 2
}
